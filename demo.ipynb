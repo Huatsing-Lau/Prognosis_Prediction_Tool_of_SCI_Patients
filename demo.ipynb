{
 "cells": [
  {
   "cell_type": "markdown",
   "metadata": {},
   "source": [
    "### 1 Installation"
   ]
  },
  {
   "cell_type": "markdown",
   "metadata": {},
   "source": [
    "use ipywidgets https://github.com/jupyter-widgets/ipywidgets"
   ]
  },
  {
   "cell_type": "code",
   "execution_count": 1,
   "metadata": {},
   "outputs": [],
   "source": [
    "! git clone https://github.com/Huatsing-Lau/Prognosis_Prediction_Tool_of_SCI_Patients\n",
    "% cd Prognosis_Prediction_Tool_of_SCI_Patients\n",
    "! pip install -r requirements.txt\n",
    "# ! jupyter nbextension enable --py widgetsnbextension\n",
    "# ! jupyter nbextension enable --py widgetsnbextension --sys-prefix"
   ]
  },
  {
   "cell_type": "markdown",
   "metadata": {},
   "source": [
    "### 2 Prognosis Prediction Tool for Critical Patients with Spinal Cord Injury"
   ]
  },
  {
   "cell_type": "markdown",
   "metadata": {},
   "source": [
    "**Background**: Prognosis prediction of spinal cord injury (SCI) is vital, especially for critical patients who need intensive care. Accurate predictions may contribute to the decision-making of clinical management, which will benefit the clinicians and patients. Thus, this online tool adopted machine-learning technique in order to predict the discharge destination of critical SCI patients, which may provide more patient-specific information for doctors and patient's family. However, this online tool was only validated in a retrospective study with nearly 1600 cases. The performance of this online tool is presented in the following figures, which demonstrated acceptable accuracy in early prediction (used clinical data at the admission) and good accuracy in recent prediction (used the most recent clinical data). As this online tool is not validated in prospective study, this online tool could not replace the doctors in decision-making of clinical management."
   ]
  },
  {
   "cell_type": "markdown",
   "metadata": {},
   "source": [
    "![title](poster.png)"
   ]
  },
  {
   "cell_type": "code",
   "execution_count": 2,
   "metadata": {
    "scrolled": false
   },
   "outputs": [
    {
     "data": {
      "application/vnd.jupyter.widget-view+json": {
       "model_id": "2eef29b99e324a10b1ee860ba41d7ab4",
       "version_major": 2,
       "version_minor": 0
      },
      "text/plain": [
       "Tab(children=(GridspecLayout(children=(IntText(value=74, description='Age (year):', layout=Layout(grid_area='w…"
      ]
     },
     "metadata": {},
     "output_type": "display_data"
    },
    {
     "data": {
      "application/vnd.jupyter.widget-view+json": {
       "model_id": "4215b339160249d0b6d586ffb18dd304",
       "version_major": 2,
       "version_minor": 0
      },
      "text/plain": [
       "Output()"
      ]
     },
     "metadata": {},
     "output_type": "display_data"
    }
   ],
   "source": [
    "from util_visual import Visual,DataFrameSelector\n",
    "v = Visual()"
   ]
  }
 ],
 "metadata": {
  "kernelspec": {
   "display_name": "Python 3",
   "language": "python",
   "name": "python3"
  },
  "language_info": {
   "codemirror_mode": {
    "name": "ipython",
    "version": 3
   },
   "file_extension": ".py",
   "mimetype": "text/x-python",
   "name": "python",
   "nbconvert_exporter": "python",
   "pygments_lexer": "ipython3",
   "version": "3.8.5"
  }
 },
 "nbformat": 4,
 "nbformat_minor": 4
}
